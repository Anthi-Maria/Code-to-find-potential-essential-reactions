{
 "cells": [
  {
   "cell_type": "code",
   "execution_count": 1,
   "id": "unnecessary-watson",
   "metadata": {},
   "outputs": [
    {
     "name": "stdout",
     "output_type": "stream",
     "text": [
      "Academic license - for non-commercial use only - expires 2024-03-07\n",
      "Using license file /home/schwartzlab/gurobi.lic\n"
     ]
    }
   ],
   "source": [
    "import numpy as np\n",
    "import pandas as pd\n",
    "import cobra.test\n",
    "import os\n",
    "\n",
    "from os.path import join\n",
    "\n",
    "from time import time\n",
    "\n",
    "\n",
    "from cobra.flux_analysis import (\n",
    "    single_gene_deletion, single_reaction_deletion, double_gene_deletion,\n",
    "    double_reaction_deletion)\n",
    "\n",
    "import cobra\n",
    "from cobra.test import create_test_model\n",
    "cobra_config = cobra.Configuration()\n",
    "cobra_config.solver = \"gurobi\"\n",
    "model = create_test_model(\"textbook\")\n",
    "model.solver\n",
    "\n",
    "a = cobra.io.read_sbml_model(\"iEC1344_C.xml\")\n"
   ]
  },
  {
   "cell_type": "code",
   "execution_count": 3,
   "id": "smooth-buffalo",
   "metadata": {
    "scrolled": true
   },
   "outputs": [
    {
     "data": {
      "text/plain": [
       "['ABUTt2pp',\n",
       " 'ACS',\n",
       " 'ACt4pp',\n",
       " 'ALATA_L',\n",
       " 'ALAt2pp_copy1',\n",
       " 'ALAt4pp',\n",
       " 'ADK1',\n",
       " 'ADK3',\n",
       " 'ASPt2pp_copy1',\n",
       " 'CA2t3pp',\n",
       " 'CRNt8pp',\n",
       " 'GLCP',\n",
       " 'GLCP2',\n",
       " 'GLDBRAN2',\n",
       " 'GLUt4pp',\n",
       " 'GLYCLTt4pp',\n",
       " 'ICHORS_copy2',\n",
       " 'INDOLEt2pp',\n",
       " 'HPYRRx',\n",
       " 'GLYt2pp_copy1',\n",
       " 'GLYt4pp',\n",
       " 'L_LACtex_copy1',\n",
       " 'NAt3pp',\n",
       " 'NDPK1',\n",
       " 'PROt4pp',\n",
       " 'SERt4pp',\n",
       " 'URAt2pp_copy1',\n",
       " 'VPAMTr_copy1',\n",
       " 'VALTA',\n",
       " 'L_LACtex_copy2',\n",
       " 'MICITDr_copy2',\n",
       " 'CTECOAI8_copy2',\n",
       " 'CTECOAI6_copy2',\n",
       " 'VPAMTr_copy2',\n",
       " 'ALDD19xr_copy2',\n",
       " 'DHNPA2r_copy2',\n",
       " 'HACD1i',\n",
       " 'HACD2i',\n",
       " 'HACD3i',\n",
       " 'HACD4i',\n",
       " 'HACD5i',\n",
       " 'HACD6i',\n",
       " 'HACD7i',\n",
       " 'DARBt2rpp_copy2',\n",
       " 'HACD8i',\n",
       " 'CTECOAI7_copy2',\n",
       " 'KAT1',\n",
       " 'ACACT11',\n",
       " 'ACACT8',\n",
       " 'ACACT13',\n",
       " 'ACACT10',\n",
       " 'ACACT9',\n",
       " 'ACACT12',\n",
       " 'ACACT8r_copy2']"
      ]
     },
     "execution_count": 3,
     "metadata": {},
     "output_type": "execute_result"
    }
   ],
   "source": [
    "i= 0\n",
    "r_id = a.reactions[0]\n",
    "essential_reactions= list()\n",
    "\n",
    "for r_id in a.reactions:\n",
    "    l= list()\n",
    "    n=0\n",
    "    n2=0\n",
    "    count=0\n",
    "    r = a.reactions[i]\n",
    "    r_id = r.id\n",
    "    csvFile = pd.read_csv('biomass_per_flux_for_reaction_{}.csv'.format(r_id))\n",
    "\n",
    "    while n < len(csvFile):\n",
    "        inf= csvFile.iloc[n,  2]\n",
    "        flt= float(csvFile.iloc[n,  2])\n",
    "    \n",
    "        if csvFile.iloc[n,  2] == flt:\n",
    "            l.append(csvFile.iloc[n,  2])\n",
    "        n= n+1\n",
    "\n",
    "    d= pd.DataFrame (l, columns = ['Biomass'])\n",
    "    d.Biomass = d.Biomass.round(2)\n",
    "    \n",
    "    if len(d)== 201:\n",
    "        essential_reactions.append(r_id)\n",
    "        \n",
    "    i= i+1\n",
    "    \n",
    "essential_reactions\n"
   ]
  },
  {
   "cell_type": "code",
   "execution_count": 5,
   "id": "written-vulnerability",
   "metadata": {},
   "outputs": [],
   "source": [
    "len(essential_reactions)\n",
    "\n",
    "D= pd.DataFrame (essential_reactions, columns = ['Reaction names'])\n",
    "D.to_csv(\"Potentially essential_reactions.csv\")\n"
   ]
  },
  {
   "cell_type": "code",
   "execution_count": null,
   "id": "through-night",
   "metadata": {},
   "outputs": [],
   "source": []
  }
 ],
 "metadata": {
  "kernelspec": {
   "display_name": "Python 3",
   "language": "python",
   "name": "python3"
  },
  "language_info": {
   "codemirror_mode": {
    "name": "ipython",
    "version": 3
   },
   "file_extension": ".py",
   "mimetype": "text/x-python",
   "name": "python",
   "nbconvert_exporter": "python",
   "pygments_lexer": "ipython3",
   "version": "3.8.3"
  }
 },
 "nbformat": 4,
 "nbformat_minor": 5
}
